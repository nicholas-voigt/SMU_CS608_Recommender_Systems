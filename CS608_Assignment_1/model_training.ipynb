{
 "cells": [
  {
   "cell_type": "markdown",
   "id": "c3a3d029",
   "metadata": {},
   "source": [
    "# CS608 Assignment 1 Model Training"
   ]
  },
  {
   "cell_type": "markdown",
   "id": "46f88f72",
   "metadata": {},
   "source": [
    "### Preparations"
   ]
  },
  {
   "cell_type": "code",
   "execution_count": 36,
   "id": "1cbff160",
   "metadata": {},
   "outputs": [],
   "source": [
    "# Importing necessary libraries\n",
    "\n",
    "import cornac\n",
    "from cornac.data import Reader\n",
    "from cornac.data import Dataset\n",
    "from cornac.models import MF, PMF, BPR, WMF, MMMF, EASE\n",
    "from cornac.eval_methods import BaseMethod, RatioSplit\n",
    "from cornac.metrics import MAE, RMSE, AUC, FMeasure, MAP, NCRR, NDCG, Recall\n",
    "from cornac.hyperopt import RandomSearch\n",
    "from cornac.hyperopt import Discrete, Continuous\n",
    "from cornac.experiment import Experiment\n",
    "\n",
    "import pandas as pd\n",
    "import numpy as np\n",
    "import matplotlib.pyplot as plt\n",
    "import seaborn as sns\n",
    "from sklearn.model_selection import train_test_split\n",
    "from scipy.stats import hmean\n",
    "\n",
    "SEED = 666\n",
    "VERBOSE = True"
   ]
  },
  {
   "cell_type": "code",
   "execution_count": 37,
   "id": "9096c72d",
   "metadata": {},
   "outputs": [],
   "source": [
    "# Loading the training dataset\n",
    "train_data = Reader().read(fpath='cs608_ip_train_v3.csv', fmt='UIR', sep=',', skip_lines=1, id_inline=False, parser=None)\n",
    "\n",
    "# Loading the test dataset\n",
    "test_data = Reader().read(fpath='cs608_ip_probe_v3.csv', fmt='UIR', sep=',', skip_lines=1, id_inline=False, parser=None)\n"
   ]
  },
  {
   "cell_type": "markdown",
   "id": "ab111151",
   "metadata": {},
   "source": [
    "### Data Analysis"
   ]
  },
  {
   "cell_type": "code",
   "execution_count": 38,
   "id": "cfc34779",
   "metadata": {},
   "outputs": [
    {
     "data": {
      "text/html": [
       "<div>\n",
       "<style scoped>\n",
       "    .dataframe tbody tr th:only-of-type {\n",
       "        vertical-align: middle;\n",
       "    }\n",
       "\n",
       "    .dataframe tbody tr th {\n",
       "        vertical-align: top;\n",
       "    }\n",
       "\n",
       "    .dataframe thead th {\n",
       "        text-align: right;\n",
       "    }\n",
       "</style>\n",
       "<table border=\"1\" class=\"dataframe\">\n",
       "  <thead>\n",
       "    <tr style=\"text-align: right;\">\n",
       "      <th></th>\n",
       "      <th>user_id</th>\n",
       "      <th>item_id</th>\n",
       "      <th>rating</th>\n",
       "    </tr>\n",
       "  </thead>\n",
       "  <tbody>\n",
       "    <tr>\n",
       "      <th>0</th>\n",
       "      <td>11239</td>\n",
       "      <td>1</td>\n",
       "      <td>5.0</td>\n",
       "    </tr>\n",
       "    <tr>\n",
       "      <th>1</th>\n",
       "      <td>11239</td>\n",
       "      <td>2</td>\n",
       "      <td>4.0</td>\n",
       "    </tr>\n",
       "    <tr>\n",
       "      <th>2</th>\n",
       "      <td>11239</td>\n",
       "      <td>3</td>\n",
       "      <td>5.0</td>\n",
       "    </tr>\n",
       "    <tr>\n",
       "      <th>3</th>\n",
       "      <td>11239</td>\n",
       "      <td>4</td>\n",
       "      <td>5.0</td>\n",
       "    </tr>\n",
       "    <tr>\n",
       "      <th>4</th>\n",
       "      <td>11239</td>\n",
       "      <td>5</td>\n",
       "      <td>5.0</td>\n",
       "    </tr>\n",
       "  </tbody>\n",
       "</table>\n",
       "</div>"
      ],
      "text/plain": [
       "  user_id item_id  rating\n",
       "0   11239       1     5.0\n",
       "1   11239       2     4.0\n",
       "2   11239       3     5.0\n",
       "3   11239       4     5.0\n",
       "4   11239       5     5.0"
      ]
     },
     "execution_count": 38,
     "metadata": {},
     "output_type": "execute_result"
    }
   ],
   "source": [
    "df_train = pd.DataFrame(train_data, columns=[\"user_id\", \"item_id\", \"rating\"])\n",
    "df_train.head()"
   ]
  },
  {
   "cell_type": "code",
   "execution_count": 39,
   "id": "62aaa55d",
   "metadata": {},
   "outputs": [
    {
     "name": "stdout",
     "output_type": "stream",
     "text": [
      "Number of users: 11525\n",
      "Number of items: 28771\n",
      "Number of available ratings: 112104\n",
      "Number of all possible ratings: 331585775\n",
      "----------------------------------------\n",
      "SPARSITY: 99.97%\n"
     ]
    }
   ],
   "source": [
    "n_users = df_train.user_id.nunique()\n",
    "n_items = df_train.item_id.nunique()\n",
    "n_ratings = len(df_train)\n",
    "rating_matrix_size = n_users * n_items\n",
    "sparsity = 1 - n_ratings / rating_matrix_size\n",
    "\n",
    "print(f\"Number of users: {n_users}\")\n",
    "print(f\"Number of items: {n_items}\")\n",
    "print(f\"Number of available ratings: {n_ratings}\")\n",
    "print(f\"Number of all possible ratings: {rating_matrix_size}\")\n",
    "print(\"-\" * 40)\n",
    "print(f\"SPARSITY: {sparsity * 100.0:.2f}%\")"
   ]
  },
  {
   "cell_type": "code",
   "execution_count": 40,
   "id": "a414c8f3",
   "metadata": {},
   "outputs": [
    {
     "data": {
      "text/plain": [
       "<Axes: xlabel='rating'>"
      ]
     },
     "execution_count": 40,
     "metadata": {},
     "output_type": "execute_result"
    },
    {
     "data": {
      "image/png": "[encoded data removed]",
      "text/plain": [
       "<Figure size 1400x500 with 2 Axes>"
      ]
     },
     "metadata": {},
     "output_type": "display_data"
    }
   ],
   "source": [
    "fig, axes = plt.subplots(nrows=1, ncols=2, figsize=(14, 5))\n",
    "sns.countplot(x=\"rating\", hue=\"rating\", data=df_train, palette=\"ch:.25\", ax=axes[0], legend=False)\n",
    "sns.boxplot(x=\"rating\", data=df_train, ax=axes[1])"
   ]
  },
  {
   "cell_type": "code",
   "execution_count": 41,
   "id": "fad9d690",
   "metadata": {},
   "outputs": [
    {
     "name": "stdout",
     "output_type": "stream",
     "text": [
      "Top 10 items with the most ratings:\n",
      "item_id\n",
      "431     331\n",
      "168     319\n",
      "22      271\n",
      "164     264\n",
      "21      255\n",
      "597     187\n",
      "1053    185\n",
      "228     173\n",
      "178     161\n",
      "852     153\n"
     ]
    },
    {
     "data": {
      "text/plain": [
       "[Text(0.5, 1.0, 'log-log plot'),\n",
       " Text(0.5, 0, '#ratings (log scale)'),\n",
       " Text(0, 0.5, '#items (log scale)')]"
      ]
     },
     "execution_count": 41,
     "metadata": {},
     "output_type": "execute_result"
    },
    {
     "data": {
      "image/png": "[encoded data removed]",
      "text/plain": [
       "<Figure size 1400x500 with 2 Axes>"
      ]
     },
     "metadata": {},
     "output_type": "display_data"
    }
   ],
   "source": [
    "item_rate_count = df_train.groupby(\"item_id\")[\"user_id\"].nunique().sort_values(ascending=False)\n",
    "print(\"Top 10 items with the most ratings:\")\n",
    "print(item_rate_count.head(10).to_string())\n",
    "\n",
    "fig, axes = plt.subplots(nrows=1, ncols=2, figsize=(14, 5))\n",
    "\n",
    "axes[0].bar(x=item_rate_count.index, height=item_rate_count.values, width=1.0, align=\"edge\")\n",
    "axes[0].set_ylim(0, 150)\n",
    "axes[0].set_xticks([])\n",
    "axes[0].set(title=\"long tail of rating frequency\",\n",
    "            xlabel=\"item ordered by decreasing frequency\",\n",
    "            ylabel=\"#ratings\")\n",
    "\n",
    "count = item_rate_count.value_counts()\n",
    "sns.scatterplot(x=np.log(count.index), y=np.log(count.values), ax=axes[1])\n",
    "axes[1].set(title=\"log-log plot\", xlabel=\"#ratings (log scale)\", ylabel=\"#items (log scale)\")\n"
   ]
  },
  {
   "cell_type": "markdown",
   "id": "e8049ddc",
   "metadata": {},
   "source": [
    "### Matrix Factorization Model Training"
   ]
  },
  {
   "cell_type": "markdown",
   "id": "f6506a50",
   "metadata": {},
   "source": [
    "Important understanding for simple MF:\n",
    "- Larger latent vectors (k) tends to show better ranking performance\n",
    "- More iterations improve RMSE (exact prediction) but worsen ranking stats (overfitting?) best seen around 10 iterations\n",
    "- Learning rate of around 0.01 seems to perform best\n",
    "- Bias improves RMSE but worsens ranking\n",
    "\n",
    "-> Best result with MF(k=300, max_iter=10, learning_rate=0.01, lambda_reg=0.01, use_bias=False)\n",
    "\n"
   ]
  },
  {
   "cell_type": "code",
   "execution_count": null,
   "id": "6d6b6df8",
   "metadata": {},
   "outputs": [],
   "source": [
    "mf_1 = MF(k=150, max_iter=10, learning_rate=0.01, lambda_reg=0.01, use_bias=False,\n",
    "        verbose=VERBOSE, name=f\"MF_k_150\")\n",
    "\n",
    "mf_2 = MF(k=200, max_iter=10, learning_rate=0.01, lambda_reg=0.01, use_bias=False,\n",
    "        verbose=VERBOSE, name=f\"MF_k_200\")\n",
    "\n",
    "mf_3 = MF(k=250, max_iter=10, learning_rate=0.01, lambda_reg=0.01, use_bias=False,\n",
    "        verbose=VERBOSE, name=f\"MF_k_250\")\n",
    "\n",
    "mf_4 = MF(k=300, max_iter=10, learning_rate=0.01, lambda_reg=0.01, use_bias=False,\n",
    "        verbose=VERBOSE, name=f\"MF_k_300\")\n",
    "\n",
    "models = [mf_1, mf_2, mf_3, mf_4]"
   ]
  },
  {
   "cell_type": "code",
   "execution_count": 121,
   "id": "7d7b0425",
   "metadata": {},
   "outputs": [
    {
     "name": "stdout",
     "output_type": "stream",
     "text": [
      "rating_threshold = 2.5\n",
      "exclude_unknowns = False\n",
      "---\n",
      "Training data:\n",
      "Number of users = 11525\n",
      "Number of items = 28771\n",
      "Number of ratings = 112104\n",
      "Max rating = 5.0\n",
      "Min rating = 1.0\n",
      "Global mean = 4.4\n",
      "---\n",
      "Test data:\n",
      "Number of users = 11525\n",
      "Number of items = 28771\n",
      "Number of ratings = 52381\n",
      "Number of unknown users = 0\n",
      "Number of unknown items = 0\n",
      "---\n",
      "Total users = 11525\n",
      "Total items = 28771\n",
      "\n",
      "[MF_k_150] Training started!\n"
     ]
    },
    {
     "name": "stderr",
     "output_type": "stream",
     "text": [
      "100%|██████████| 10/10 [00:00<00:00, 174.93it/s, loss=785316.62]\n"
     ]
    },
    {
     "name": "stdout",
     "output_type": "stream",
     "text": [
      "Optimization finished!\n",
      "\n",
      "[MF_k_150] Evaluation started!\n"
     ]
    },
    {
     "name": "stderr",
     "output_type": "stream",
     "text": [
      "Rating: 100%|██████████| 52381/52381 [00:00<00:00, 282002.00it/s]\n",
      "Ranking: 100%|██████████| 11515/11515 [00:12<00:00, 925.23it/s]\n"
     ]
    },
    {
     "name": "stdout",
     "output_type": "stream",
     "text": [
      "\n",
      "[MF_k_200] Training started!\n"
     ]
    },
    {
     "name": "stderr",
     "output_type": "stream",
     "text": [
      "100%|██████████| 10/10 [00:00<00:00, 129.59it/s, loss=755211.00]\n"
     ]
    },
    {
     "name": "stdout",
     "output_type": "stream",
     "text": [
      "Optimization finished!\n",
      "\n",
      "[MF_k_200] Evaluation started!\n"
     ]
    },
    {
     "name": "stderr",
     "output_type": "stream",
     "text": [
      "Rating: 100%|██████████| 52381/52381 [00:00<00:00, 266795.51it/s]\n",
      "Ranking: 100%|██████████| 11515/11515 [00:12<00:00, 889.00it/s]\n"
     ]
    },
    {
     "name": "stdout",
     "output_type": "stream",
     "text": [
      "\n",
      "[MF_k_250] Training started!\n"
     ]
    },
    {
     "name": "stderr",
     "output_type": "stream",
     "text": [
      "100%|██████████| 10/10 [00:00<00:00, 89.61it/s, loss=743648.06] \n"
     ]
    },
    {
     "name": "stdout",
     "output_type": "stream",
     "text": [
      "Optimization finished!\n",
      "\n",
      "[MF_k_250] Evaluation started!\n"
     ]
    },
    {
     "name": "stderr",
     "output_type": "stream",
     "text": [
      "Rating: 100%|██████████| 52381/52381 [00:00<00:00, 262361.57it/s]\n",
      "Ranking: 100%|██████████| 11515/11515 [00:19<00:00, 601.94it/s]\n"
     ]
    },
    {
     "name": "stdout",
     "output_type": "stream",
     "text": [
      "\n",
      "[MF_k_300] Training started!\n"
     ]
    },
    {
     "name": "stderr",
     "output_type": "stream",
     "text": [
      "100%|██████████| 10/10 [00:00<00:00, 78.13it/s, loss=712621.56]\n"
     ]
    },
    {
     "name": "stdout",
     "output_type": "stream",
     "text": [
      "Optimization finished!\n",
      "\n",
      "[MF_k_300] Evaluation started!\n"
     ]
    },
    {
     "name": "stderr",
     "output_type": "stream",
     "text": [
      "Rating: 100%|██████████| 52381/52381 [00:00<00:00, 262090.84it/s]\n",
      "Ranking: 100%|██████████| 11515/11515 [00:17<00:00, 669.05it/s]"
     ]
    },
    {
     "name": "stdout",
     "output_type": "stream",
     "text": [
      "\n",
      "TEST:\n",
      "...\n",
      "         |   RMSE |    AUC |  F1@50 | NCRR@50 | NDCG@50 | Recall@50 | Train (s) | Test (s)\n",
      "-------- + ------ + ------ + ------ + ------- + ------- + --------- + --------- + --------\n",
      "MF_k_150 | 3.2394 | 0.7679 | 0.0103 |  0.0322 |  0.0420 |    0.0683 |    0.1191 |  12.9666\n",
      "MF_k_200 | 3.2143 | 0.7691 | 0.0104 |  0.0330 |  0.0428 |    0.0695 |    0.1629 |  13.4991\n",
      "MF_k_250 | 3.2175 | 0.7698 | 0.0107 |  0.0352 |  0.0448 |    0.0715 |    0.2258 |  19.6523\n",
      "MF_k_300 | 3.1779 | 0.7703 | 0.0105 |  0.0359 |  0.0451 |    0.0708 |    0.2562 |  17.7329\n",
      "\n"
     ]
    },
    {
     "name": "stderr",
     "output_type": "stream",
     "text": [
      "\n"
     ]
    }
   ],
   "source": [
    "# Defining the evaluation method\n",
    "eval_method = BaseMethod.from_splits(\n",
    "    train_data=train_data, test_data=test_data, val_data=None, \n",
    "    fmt='UIR', rating_threshold=2.5, \n",
    "    random_state=SEED, verbose=VERBOSE\n",
    ")\n",
    "\n",
    "# Defining the evaluation metrics\n",
    "metrics = [\n",
    "    RMSE(),\n",
    "    AUC(),\n",
    "    FMeasure(k=50),\n",
    "    NDCG(k=50),\n",
    "    NCRR(k=50),\n",
    "    Recall(k=50)\n",
    "]\n",
    "\n",
    "# Running the experiment\n",
    "Experiment(eval_method=eval_method, models=models, metrics=metrics, verbose=VERBOSE).run()\n",
    "\n"
   ]
  },
  {
   "cell_type": "markdown",
   "id": "e9b6ee0b",
   "metadata": {},
   "source": [
    "Hyperparameter Tuning using RandomSearch"
   ]
  },
  {
   "cell_type": "code",
   "execution_count": null,
   "id": "d1b26d37",
   "metadata": {},
   "outputs": [
    {
     "name": "stdout",
     "output_type": "stream",
     "text": [
      "rating_threshold = 2.5\n",
      "exclude_unknowns = True\n",
      "---\n",
      "Training data:\n",
      "Number of users = 11525\n",
      "Number of items = 27573\n",
      "Number of ratings = 100893\n",
      "Max rating = 5.0\n",
      "Min rating = 1.0\n",
      "Global mean = 4.4\n",
      "---\n",
      "Test data:\n",
      "Number of users = 11525\n",
      "Number of items = 27573\n",
      "Number of ratings = 51668\n",
      "Number of unknown users = 0\n",
      "Number of unknown items = 0\n",
      "---\n",
      "Validation data:\n",
      "Number of users = 11525\n",
      "Number of items = 27573\n",
      "Number of ratings = 9941\n",
      "---\n",
      "Total users = 11525\n",
      "Total items = 27573\n",
      "\n",
      "[MF] Training started!\n"
     ]
    },
    {
     "name": "stderr",
     "output_type": "stream",
     "text": [
      "100%|██████████| 10/10 [00:00<00:00, 138.54it/s, loss=818561.94]\n"
     ]
    },
    {
     "name": "stdout",
     "output_type": "stream",
     "text": [
      "Optimization finished!\n",
      "\n",
      "[MF] Evaluation started!\n"
     ]
    },
    {
     "name": "stderr",
     "output_type": "stream",
     "text": [
      "Rating: 100%|██████████| 51668/51668 [00:00<00:00, 291128.76it/s]\n",
      "Ranking: 100%|██████████| 11514/11514 [00:11<00:00, 1012.10it/s]\n",
      "Rating: 100%|██████████| 9941/9941 [00:00<00:00, 248666.04it/s]\n",
      "Ranking: 100%|██████████| 6248/6248 [00:05<00:00, 1130.38it/s]\n"
     ]
    },
    {
     "name": "stdout",
     "output_type": "stream",
     "text": [
      "\n",
      "[RandomSearch_MF] Training started!\n",
      "Evaluating: {'k': np.int64(250), 'lambda_reg': 0.053619368003598594, 'learning_rate': 0.06644994821167129, 'max_iter': np.int64(5)}\n"
     ]
    },
    {
     "name": "stderr",
     "output_type": "stream",
     "text": [
      "100%|██████████| 5/5 [00:00<00:00, 57.35it/s, loss=43655.20]  \n"
     ]
    },
    {
     "name": "stdout",
     "output_type": "stream",
     "text": [
      "Optimization finished!\n",
      "Evaluating: {'k': np.int64(300), 'lambda_reg': 0.05770008012171255, 'learning_rate': 0.09410375642348798, 'max_iter': np.int64(9)}\n"
     ]
    },
    {
     "name": "stderr",
     "output_type": "stream",
     "text": [
      "100%|██████████| 9/9 [00:00<00:00, 55.86it/s, loss=1264.44]   \n"
     ]
    },
    {
     "name": "stdout",
     "output_type": "stream",
     "text": [
      "Optimization finished!\n",
      "Evaluating: {'k': np.int64(250), 'lambda_reg': 0.013689488355816752, 'learning_rate': 0.01670933856831664, 'max_iter': np.int64(7)}\n"
     ]
    },
    {
     "name": "stderr",
     "output_type": "stream",
     "text": [
      "100%|██████████| 7/7 [00:00<00:00, 65.36it/s, loss=660848.00] \n"
     ]
    },
    {
     "name": "stdout",
     "output_type": "stream",
     "text": [
      "Optimization finished!\n",
      "Evaluating: {'k': np.int64(300), 'lambda_reg': 0.04830972563852177, 'learning_rate': 0.08165354485208216, 'max_iter': np.int64(13)}\n"
     ]
    },
    {
     "name": "stderr",
     "output_type": "stream",
     "text": [
      "100%|██████████| 13/13 [00:00<00:00, 67.65it/s, loss=633.16]   \n"
     ]
    },
    {
     "name": "stdout",
     "output_type": "stream",
     "text": [
      "Optimization finished!\n",
      "Evaluating: {'k': np.int64(300), 'lambda_reg': 0.06700487720112798, 'learning_rate': 0.06531026767574108, 'max_iter': np.int64(11)}\n"
     ]
    },
    {
     "name": "stderr",
     "output_type": "stream",
     "text": [
      "100%|██████████| 11/11 [00:00<00:00, 55.73it/s, loss=1822.88]  \n"
     ]
    },
    {
     "name": "stdout",
     "output_type": "stream",
     "text": [
      "Optimization finished!\n",
      "Evaluating: {'k': np.int64(250), 'lambda_reg': 0.05331695093974359, 'learning_rate': 0.031461647470050036, 'max_iter': np.int64(9)}\n"
     ]
    },
    {
     "name": "stderr",
     "output_type": "stream",
     "text": [
      "100%|██████████| 9/9 [00:00<00:00, 80.35it/s, loss=49219.42]  \n"
     ]
    },
    {
     "name": "stdout",
     "output_type": "stream",
     "text": [
      "Optimization finished!\n",
      "Evaluating: {'k': np.int64(300), 'lambda_reg': 0.03819892435406086, 'learning_rate': 0.039910433538563654, 'max_iter': np.int64(14)}\n"
     ]
    },
    {
     "name": "stderr",
     "output_type": "stream",
     "text": [
      "100%|██████████| 14/14 [00:00<00:00, 67.85it/s, loss=2005.31]  \n"
     ]
    },
    {
     "name": "stdout",
     "output_type": "stream",
     "text": [
      "Optimization finished!\n",
      "Evaluating: {'k': np.int64(300), 'lambda_reg': 0.09483066715565042, 'learning_rate': 0.03816201519065788, 'max_iter': np.int64(14)}\n"
     ]
    },
    {
     "name": "stderr",
     "output_type": "stream",
     "text": [
      "100%|██████████| 14/14 [00:00<00:00, 67.80it/s, loss=4738.68]  \n"
     ]
    },
    {
     "name": "stdout",
     "output_type": "stream",
     "text": [
      "Optimization finished!\n",
      "Evaluating: {'k': np.int64(350), 'lambda_reg': 0.013362850633004608, 'learning_rate': 0.042638036486596816, 'max_iter': np.int64(10)}\n"
     ]
    },
    {
     "name": "stderr",
     "output_type": "stream",
     "text": [
      "100%|██████████| 10/10 [00:00<00:00, 53.44it/s, loss=5527.76]  \n"
     ]
    },
    {
     "name": "stdout",
     "output_type": "stream",
     "text": [
      "Optimization finished!\n",
      "Evaluating: {'k': np.int64(250), 'lambda_reg': 0.07253964504534212, 'learning_rate': 0.04425179503322282, 'max_iter': np.int64(10)}\n"
     ]
    },
    {
     "name": "stderr",
     "output_type": "stream",
     "text": [
      "100%|██████████| 10/10 [00:00<00:00, 73.98it/s, loss=9180.85]  \n"
     ]
    },
    {
     "name": "stdout",
     "output_type": "stream",
     "text": [
      "Optimization finished!\n",
      "Evaluating: {'k': np.int64(250), 'lambda_reg': 0.036868613377158625, 'learning_rate': 0.06504638692307996, 'max_iter': np.int64(6)}\n"
     ]
    },
    {
     "name": "stderr",
     "output_type": "stream",
     "text": [
      "100%|██████████| 6/6 [00:00<00:00, 79.41it/s, loss=19070.85]  "
     ]
    },
    {
     "name": "stdout",
     "output_type": "stream",
     "text": [
      "Optimization finished!\n"
     ]
    },
    {
     "name": "stderr",
     "output_type": "stream",
     "text": [
      "\n"
     ]
    },
    {
     "name": "stdout",
     "output_type": "stream",
     "text": [
      "Evaluating: {'k': np.int64(350), 'lambda_reg': 0.03753001372121043, 'learning_rate': 0.032183590038983904, 'max_iter': np.int64(12)}\n"
     ]
    },
    {
     "name": "stderr",
     "output_type": "stream",
     "text": [
      "100%|██████████| 12/12 [00:00<00:00, 53.67it/s, loss=9033.34]  \n"
     ]
    },
    {
     "name": "stdout",
     "output_type": "stream",
     "text": [
      "Optimization finished!\n",
      "Evaluating: {'k': np.int64(300), 'lambda_reg': 0.03558417352945166, 'learning_rate': 0.09278880691860955, 'max_iter': np.int64(13)}\n"
     ]
    },
    {
     "name": "stderr",
     "output_type": "stream",
     "text": [
      "100%|██████████| 13/13 [00:00<00:00, 66.48it/s, loss=357.49]   \n"
     ]
    },
    {
     "name": "stdout",
     "output_type": "stream",
     "text": [
      "Optimization finished!\n",
      "Evaluating: {'k': np.int64(200), 'lambda_reg': 0.0862112410333259, 'learning_rate': 0.024802470043872284, 'max_iter': np.int64(12)}\n"
     ]
    },
    {
     "name": "stderr",
     "output_type": "stream",
     "text": [
      "100%|██████████| 12/12 [00:00<00:00, 115.44it/s, loss=41096.96] "
     ]
    },
    {
     "name": "stdout",
     "output_type": "stream",
     "text": [
      "Optimization finished!\n"
     ]
    },
    {
     "name": "stderr",
     "output_type": "stream",
     "text": [
      "\n"
     ]
    },
    {
     "name": "stdout",
     "output_type": "stream",
     "text": [
      "Evaluating: {'k': np.int64(350), 'lambda_reg': 0.03523501308090438, 'learning_rate': 0.05976973714901828, 'max_iter': np.int64(10)}\n"
     ]
    },
    {
     "name": "stderr",
     "output_type": "stream",
     "text": [
      "100%|██████████| 10/10 [00:00<00:00, 38.18it/s, loss=1652.92]  \n"
     ]
    },
    {
     "name": "stdout",
     "output_type": "stream",
     "text": [
      "Optimization finished!\n",
      "Evaluating: {'k': np.int64(300), 'lambda_reg': 0.0983632742443069, 'learning_rate': 0.057979189978096764, 'max_iter': np.int64(12)}\n"
     ]
    },
    {
     "name": "stderr",
     "output_type": "stream",
     "text": [
      "100%|██████████| 12/12 [00:00<00:00, 66.20it/s, loss=3218.76]  \n"
     ]
    },
    {
     "name": "stdout",
     "output_type": "stream",
     "text": [
      "Optimization finished!\n",
      "Evaluating: {'k': np.int64(250), 'lambda_reg': 0.0626807938294935, 'learning_rate': 0.05000698202653785, 'max_iter': np.int64(6)}\n"
     ]
    },
    {
     "name": "stderr",
     "output_type": "stream",
     "text": [
      "100%|██████████| 6/6 [00:00<00:00, 78.58it/s, loss=53193.54]  "
     ]
    },
    {
     "name": "stdout",
     "output_type": "stream",
     "text": [
      "Optimization finished!\n"
     ]
    },
    {
     "name": "stderr",
     "output_type": "stream",
     "text": [
      "\n"
     ]
    },
    {
     "name": "stdout",
     "output_type": "stream",
     "text": [
      "Evaluating: {'k': np.int64(200), 'lambda_reg': 0.0890715020386181, 'learning_rate': 0.046952664081607594, 'max_iter': np.int64(5)}\n"
     ]
    },
    {
     "name": "stderr",
     "output_type": "stream",
     "text": [
      "100%|██████████| 5/5 [00:00<00:00, 107.99it/s, loss=153119.72]"
     ]
    },
    {
     "name": "stdout",
     "output_type": "stream",
     "text": [
      "Optimization finished!\n"
     ]
    },
    {
     "name": "stderr",
     "output_type": "stream",
     "text": [
      "\n"
     ]
    },
    {
     "name": "stdout",
     "output_type": "stream",
     "text": [
      "Evaluating: {'k': np.int64(200), 'lambda_reg': 0.09582131756749274, 'learning_rate': 0.06542902096452982, 'max_iter': np.int64(10)}\n"
     ]
    },
    {
     "name": "stderr",
     "output_type": "stream",
     "text": [
      "100%|██████████| 10/10 [00:00<00:00, 114.98it/s, loss=4565.01] "
     ]
    },
    {
     "name": "stdout",
     "output_type": "stream",
     "text": [
      "Optimization finished!\n"
     ]
    },
    {
     "name": "stderr",
     "output_type": "stream",
     "text": [
      "\n"
     ]
    },
    {
     "name": "stdout",
     "output_type": "stream",
     "text": [
      "Evaluating: {'k': np.int64(200), 'lambda_reg': 0.05917602526226908, 'learning_rate': 0.08125620381797308, 'max_iter': np.int64(13)}\n"
     ]
    },
    {
     "name": "stderr",
     "output_type": "stream",
     "text": [
      "100%|██████████| 13/13 [00:00<00:00, 117.37it/s, loss=991.66]  "
     ]
    },
    {
     "name": "stdout",
     "output_type": "stream",
     "text": [
      "Optimization finished!\n"
     ]
    },
    {
     "name": "stderr",
     "output_type": "stream",
     "text": [
      "\n"
     ]
    },
    {
     "name": "stdout",
     "output_type": "stream",
     "text": [
      "Evaluating: {'k': np.int64(300), 'lambda_reg': 0.09148257483445263, 'learning_rate': 0.02539197625331408, 'max_iter': np.int64(8)}\n"
     ]
    },
    {
     "name": "stderr",
     "output_type": "stream",
     "text": [
      "100%|██████████| 8/8 [00:00<00:00, 56.36it/s, loss=173939.05] \n"
     ]
    },
    {
     "name": "stdout",
     "output_type": "stream",
     "text": [
      "Optimization finished!\n",
      "Evaluating: {'k': np.int64(300), 'lambda_reg': 0.038779007013621976, 'learning_rate': 0.07621521264161424, 'max_iter': np.int64(10)}\n"
     ]
    },
    {
     "name": "stderr",
     "output_type": "stream",
     "text": [
      "100%|██████████| 10/10 [00:00<00:00, 65.63it/s, loss=972.82]   \n"
     ]
    },
    {
     "name": "stdout",
     "output_type": "stream",
     "text": [
      "Optimization finished!\n",
      "Evaluating: {'k': np.int64(250), 'lambda_reg': 0.014434362324745239, 'learning_rate': 0.012609039794063621, 'max_iter': np.int64(5)}\n"
     ]
    },
    {
     "name": "stderr",
     "output_type": "stream",
     "text": [
      "100%|██████████| 5/5 [00:00<00:00, 77.44it/s, loss=1010197.69]"
     ]
    },
    {
     "name": "stdout",
     "output_type": "stream",
     "text": [
      "Optimization finished!\n"
     ]
    },
    {
     "name": "stderr",
     "output_type": "stream",
     "text": [
      "\n"
     ]
    },
    {
     "name": "stdout",
     "output_type": "stream",
     "text": [
      "Evaluating: {'k': np.int64(200), 'lambda_reg': 0.04602466533524824, 'learning_rate': 0.05782100365376523, 'max_iter': np.int64(6)}\n"
     ]
    },
    {
     "name": "stderr",
     "output_type": "stream",
     "text": [
      "100%|██████████| 6/6 [00:00<00:00, 110.38it/s, loss=33572.30] "
     ]
    },
    {
     "name": "stdout",
     "output_type": "stream",
     "text": [
      "Optimization finished!\n"
     ]
    },
    {
     "name": "stderr",
     "output_type": "stream",
     "text": [
      "\n"
     ]
    },
    {
     "name": "stdout",
     "output_type": "stream",
     "text": [
      "Evaluating: {'k': np.int64(350), 'lambda_reg': 0.07208156302915437, 'learning_rate': 0.0927947571783685, 'max_iter': np.int64(12)}\n"
     ]
    },
    {
     "name": "stderr",
     "output_type": "stream",
     "text": [
      "100%|██████████| 12/12 [00:00<00:00, 52.70it/s, loss=1169.69]  \n"
     ]
    },
    {
     "name": "stdout",
     "output_type": "stream",
     "text": [
      "Optimization finished!\n",
      "Evaluating: {'k': np.int64(250), 'lambda_reg': 0.03425155182998964, 'learning_rate': 0.08193545059364646, 'max_iter': np.int64(6)}\n"
     ]
    },
    {
     "name": "stderr",
     "output_type": "stream",
     "text": [
      "100%|██████████| 6/6 [00:00<00:00, 77.05it/s, loss=8124.97]   "
     ]
    },
    {
     "name": "stdout",
     "output_type": "stream",
     "text": [
      "Optimization finished!\n"
     ]
    },
    {
     "name": "stderr",
     "output_type": "stream",
     "text": [
      "\n"
     ]
    },
    {
     "name": "stdout",
     "output_type": "stream",
     "text": [
      "Evaluating: {'k': np.int64(200), 'lambda_reg': 0.0710001627504048, 'learning_rate': 0.017950158406871995, 'max_iter': np.int64(14)}\n"
     ]
    },
    {
     "name": "stderr",
     "output_type": "stream",
     "text": [
      "100%|██████████| 14/14 [00:00<00:00, 116.84it/s, loss=71341.20] \n"
     ]
    },
    {
     "name": "stdout",
     "output_type": "stream",
     "text": [
      "Optimization finished!\n",
      "Evaluating: {'k': np.int64(250), 'lambda_reg': 0.03333849551832386, 'learning_rate': 0.03973792346010791, 'max_iter': np.int64(11)}\n"
     ]
    },
    {
     "name": "stderr",
     "output_type": "stream",
     "text": [
      "100%|██████████| 11/11 [00:00<00:00, 79.63it/s, loss=6748.62]  \n"
     ]
    },
    {
     "name": "stdout",
     "output_type": "stream",
     "text": [
      "Optimization finished!\n",
      "Evaluating: {'k': np.int64(350), 'lambda_reg': 0.08228334758418446, 'learning_rate': 0.09259212775725134, 'max_iter': np.int64(11)}\n"
     ]
    },
    {
     "name": "stderr",
     "output_type": "stream",
     "text": [
      "100%|██████████| 11/11 [00:00<00:00, 52.61it/s, loss=1563.30]  \n"
     ]
    },
    {
     "name": "stdout",
     "output_type": "stream",
     "text": [
      "Optimization finished!\n",
      "Evaluating: {'k': np.int64(250), 'lambda_reg': 0.07645869346960298, 'learning_rate': 0.023691253549274253, 'max_iter': np.int64(7)}\n"
     ]
    },
    {
     "name": "stderr",
     "output_type": "stream",
     "text": [
      "100%|██████████| 7/7 [00:00<00:00, 78.02it/s, loss=337976.62] "
     ]
    },
    {
     "name": "stdout",
     "output_type": "stream",
     "text": [
      "Optimization finished!\n"
     ]
    },
    {
     "name": "stderr",
     "output_type": "stream",
     "text": [
      "\n"
     ]
    },
    {
     "name": "stdout",
     "output_type": "stream",
     "text": [
      "Evaluating: {'k': np.int64(200), 'lambda_reg': 0.03617415935421811, 'learning_rate': 0.03985335222644612, 'max_iter': np.int64(5)}\n"
     ]
    },
    {
     "name": "stderr",
     "output_type": "stream",
     "text": [
      "100%|██████████| 5/5 [00:00<00:00, 105.41it/s, loss=235659.59]"
     ]
    },
    {
     "name": "stdout",
     "output_type": "stream",
     "text": [
      "Optimization finished!\n"
     ]
    },
    {
     "name": "stderr",
     "output_type": "stream",
     "text": [
      "\n"
     ]
    },
    {
     "name": "stdout",
     "output_type": "stream",
     "text": [
      "Evaluating: {'k': np.int64(250), 'lambda_reg': 0.09077416369993231, 'learning_rate': 0.08690694543834906, 'max_iter': np.int64(6)}\n"
     ]
    },
    {
     "name": "stderr",
     "output_type": "stream",
     "text": [
      "100%|██████████| 6/6 [00:00<00:00, 78.06it/s, loss=10018.67]  "
     ]
    },
    {
     "name": "stdout",
     "output_type": "stream",
     "text": [
      "Optimization finished!\n"
     ]
    },
    {
     "name": "stderr",
     "output_type": "stream",
     "text": [
      "\n"
     ]
    },
    {
     "name": "stdout",
     "output_type": "stream",
     "text": [
      "Evaluating: {'k': np.int64(200), 'lambda_reg': 0.0812035728193364, 'learning_rate': 0.0442154441683297, 'max_iter': np.int64(11)}\n"
     ]
    },
    {
     "name": "stderr",
     "output_type": "stream",
     "text": [
      "100%|██████████| 11/11 [00:00<00:00, 113.63it/s, loss=7630.53] "
     ]
    },
    {
     "name": "stdout",
     "output_type": "stream",
     "text": [
      "Optimization finished!\n"
     ]
    },
    {
     "name": "stderr",
     "output_type": "stream",
     "text": [
      "\n"
     ]
    },
    {
     "name": "stdout",
     "output_type": "stream",
     "text": [
      "Evaluating: {'k': np.int64(250), 'lambda_reg': 0.04086852559334279, 'learning_rate': 0.06636495934467744, 'max_iter': np.int64(8)}\n"
     ]
    },
    {
     "name": "stderr",
     "output_type": "stream",
     "text": [
      "100%|██████████| 8/8 [00:00<00:00, 78.02it/s, loss=4497.11]   \n"
     ]
    },
    {
     "name": "stdout",
     "output_type": "stream",
     "text": [
      "Optimization finished!\n",
      "Evaluating: {'k': np.int64(250), 'lambda_reg': 0.04942045283438519, 'learning_rate': 0.09360633256475291, 'max_iter': np.int64(13)}\n"
     ]
    },
    {
     "name": "stderr",
     "output_type": "stream",
     "text": [
      "100%|██████████| 13/13 [00:00<00:00, 82.00it/s, loss=618.71]   \n"
     ]
    },
    {
     "name": "stdout",
     "output_type": "stream",
     "text": [
      "Optimization finished!\n",
      "Evaluating: {'k': np.int64(250), 'lambda_reg': 0.029154499989065184, 'learning_rate': 0.09676056228277784, 'max_iter': np.int64(10)}\n"
     ]
    },
    {
     "name": "stderr",
     "output_type": "stream",
     "text": [
      "100%|██████████| 10/10 [00:00<00:00, 61.84it/s, loss=524.94]   \n"
     ]
    },
    {
     "name": "stdout",
     "output_type": "stream",
     "text": [
      "Optimization finished!\n",
      "Evaluating: {'k': np.int64(250), 'lambda_reg': 0.05615436453759294, 'learning_rate': 0.039469616237731237, 'max_iter': np.int64(11)}\n"
     ]
    },
    {
     "name": "stderr",
     "output_type": "stream",
     "text": [
      "100%|██████████| 11/11 [00:00<00:00, 58.44it/s, loss=8175.92]  \n"
     ]
    },
    {
     "name": "stdout",
     "output_type": "stream",
     "text": [
      "Optimization finished!\n",
      "Evaluating: {'k': np.int64(300), 'lambda_reg': 0.08616943678934466, 'learning_rate': 0.09059670621167806, 'max_iter': np.int64(9)}\n"
     ]
    },
    {
     "name": "stderr",
     "output_type": "stream",
     "text": [
      "100%|██████████| 9/9 [00:00<00:00, 53.03it/s, loss=2320.88]   \n"
     ]
    },
    {
     "name": "stdout",
     "output_type": "stream",
     "text": [
      "Optimization finished!\n",
      "Evaluating: {'k': np.int64(200), 'lambda_reg': 0.01821290539801765, 'learning_rate': 0.05108308410820704, 'max_iter': np.int64(6)}\n"
     ]
    },
    {
     "name": "stderr",
     "output_type": "stream",
     "text": [
      "100%|██████████| 6/6 [00:00<00:00, 87.34it/s, loss=48533.36]  "
     ]
    },
    {
     "name": "stdout",
     "output_type": "stream",
     "text": [
      "Optimization finished!\n"
     ]
    },
    {
     "name": "stderr",
     "output_type": "stream",
     "text": [
      "\n"
     ]
    },
    {
     "name": "stdout",
     "output_type": "stream",
     "text": [
      "Evaluating: {'k': np.int64(200), 'lambda_reg': 0.010571718656690491, 'learning_rate': 0.01867446874410944, 'max_iter': np.int64(6)}\n"
     ]
    },
    {
     "name": "stderr",
     "output_type": "stream",
     "text": [
      "100%|██████████| 6/6 [00:00<00:00, 84.43it/s, loss=748062.69] "
     ]
    },
    {
     "name": "stdout",
     "output_type": "stream",
     "text": [
      "Optimization finished!\n"
     ]
    },
    {
     "name": "stderr",
     "output_type": "stream",
     "text": [
      "\n"
     ]
    },
    {
     "name": "stdout",
     "output_type": "stream",
     "text": [
      "Evaluating: {'k': np.int64(200), 'lambda_reg': 0.01782525884146039, 'learning_rate': 0.0634390421292986, 'max_iter': np.int64(6)}\n"
     ]
    },
    {
     "name": "stderr",
     "output_type": "stream",
     "text": [
      "100%|██████████| 6/6 [00:00<00:00, 57.16it/s, loss=22145.90]  "
     ]
    },
    {
     "name": "stdout",
     "output_type": "stream",
     "text": [
      "Optimization finished!\n"
     ]
    },
    {
     "name": "stderr",
     "output_type": "stream",
     "text": [
      "\n"
     ]
    },
    {
     "name": "stdout",
     "output_type": "stream",
     "text": [
      "Evaluating: {'k': np.int64(300), 'lambda_reg': 0.052676852336397746, 'learning_rate': 0.07710832592405326, 'max_iter': np.int64(6)}\n"
     ]
    },
    {
     "name": "stderr",
     "output_type": "stream",
     "text": [
      "100%|██████████| 6/6 [00:00<00:00, 55.10it/s, loss=9925.74]   \n"
     ]
    },
    {
     "name": "stdout",
     "output_type": "stream",
     "text": [
      "Optimization finished!\n",
      "Evaluating: {'k': np.int64(200), 'lambda_reg': 0.046317443407969304, 'learning_rate': 0.02335150536481952, 'max_iter': np.int64(8)}\n"
     ]
    },
    {
     "name": "stderr",
     "output_type": "stream",
     "text": [
      "100%|██████████| 8/8 [00:00<00:00, 91.57it/s, loss=230422.45] "
     ]
    },
    {
     "name": "stdout",
     "output_type": "stream",
     "text": [
      "Optimization finished!\n"
     ]
    },
    {
     "name": "stderr",
     "output_type": "stream",
     "text": [
      "\n"
     ]
    },
    {
     "name": "stdout",
     "output_type": "stream",
     "text": [
      "Evaluating: {'k': np.int64(250), 'lambda_reg': 0.0480993339532278, 'learning_rate': 0.0706374693004175, 'max_iter': np.int64(6)}\n"
     ]
    },
    {
     "name": "stderr",
     "output_type": "stream",
     "text": [
      "100%|██████████| 6/6 [00:00<00:00, 65.16it/s, loss=15013.00]  "
     ]
    },
    {
     "name": "stdout",
     "output_type": "stream",
     "text": [
      "Optimization finished!\n"
     ]
    },
    {
     "name": "stderr",
     "output_type": "stream",
     "text": [
      "\n"
     ]
    },
    {
     "name": "stdout",
     "output_type": "stream",
     "text": [
      "Evaluating: {'k': np.int64(350), 'lambda_reg': 0.0702331771726878, 'learning_rate': 0.09447837005835441, 'max_iter': np.int64(13)}\n"
     ]
    },
    {
     "name": "stderr",
     "output_type": "stream",
     "text": [
      "100%|██████████| 13/13 [00:00<00:00, 46.42it/s, loss=1051.63]  \n"
     ]
    },
    {
     "name": "stdout",
     "output_type": "stream",
     "text": [
      "Optimization finished!\n",
      "Evaluating: {'k': np.int64(350), 'lambda_reg': 0.0724820744404273, 'learning_rate': 0.030163168116728978, 'max_iter': np.int64(5)}\n"
     ]
    },
    {
     "name": "stderr",
     "output_type": "stream",
     "text": [
      "100%|██████████| 5/5 [00:00<00:00, 43.13it/s, loss=458630.06] \n"
     ]
    },
    {
     "name": "stdout",
     "output_type": "stream",
     "text": [
      "Optimization finished!\n",
      "Evaluating: {'k': np.int64(200), 'lambda_reg': 0.09417008892738152, 'learning_rate': 0.011605666655837238, 'max_iter': np.int64(12)}\n"
     ]
    },
    {
     "name": "stderr",
     "output_type": "stream",
     "text": [
      "100%|██████████| 12/12 [00:00<00:00, 80.17it/s, loss=475225.25]\n"
     ]
    },
    {
     "name": "stdout",
     "output_type": "stream",
     "text": [
      "Optimization finished!\n",
      "Evaluating: {'k': np.int64(300), 'lambda_reg': 0.05462303692043669, 'learning_rate': 0.03958225640875825, 'max_iter': np.int64(8)}\n"
     ]
    },
    {
     "name": "stderr",
     "output_type": "stream",
     "text": [
      "100%|██████████| 8/8 [00:00<00:00, 59.18it/s, loss=31680.25]  \n"
     ]
    },
    {
     "name": "stdout",
     "output_type": "stream",
     "text": [
      "Optimization finished!\n",
      "Evaluating: {'k': np.int64(250), 'lambda_reg': 0.03611879098669281, 'learning_rate': 0.0929010667749868, 'max_iter': np.int64(8)}\n"
     ]
    },
    {
     "name": "stderr",
     "output_type": "stream",
     "text": [
      "100%|██████████| 8/8 [00:00<00:00, 66.38it/s, loss=1484.79]   \n"
     ]
    },
    {
     "name": "stdout",
     "output_type": "stream",
     "text": [
      "Optimization finished!\n",
      "Evaluating: {'k': np.int64(200), 'lambda_reg': 0.07668829983880737, 'learning_rate': 0.09991117616084684, 'max_iter': np.int64(8)}\n"
     ]
    },
    {
     "name": "stderr",
     "output_type": "stream",
     "text": [
      "100%|██████████| 8/8 [00:00<00:00, 97.24it/s, loss=2589.56]   "
     ]
    },
    {
     "name": "stdout",
     "output_type": "stream",
     "text": [
      "Optimization finished!\n"
     ]
    },
    {
     "name": "stderr",
     "output_type": "stream",
     "text": [
      "\n"
     ]
    },
    {
     "name": "stdout",
     "output_type": "stream",
     "text": [
      "Best parameter settings: {'k': np.int64(200), 'lambda_reg': 0.010571718656690491, 'learning_rate': 0.01867446874410944, 'max_iter': np.int64(6)}\n",
      "F1@50 = 0.0039\n",
      "\n",
      "[RandomSearch_MF] Evaluation started!\n"
     ]
    },
    {
     "name": "stderr",
     "output_type": "stream",
     "text": [
      "Rating: 100%|██████████| 51668/51668 [00:00<00:00, 263965.31it/s]\n",
      "Ranking: 100%|██████████| 11514/11514 [00:11<00:00, 961.39it/s] \n",
      "Rating: 100%|██████████| 9941/9941 [00:00<00:00, 242168.34it/s]\n",
      "Ranking: 100%|██████████| 6248/6248 [00:05<00:00, 1122.84it/s]"
     ]
    },
    {
     "name": "stdout",
     "output_type": "stream",
     "text": [
      "\n",
      "VALIDATION:\n",
      "...\n",
      "                |   RMSE |    AUC |  F1@50 | NCRR@50 | NDCG@50 | Recall@50 | Time (s)\n",
      "--------------- + ------ + ------ + ------ + ------- + ------- + --------- + --------\n",
      "MF              | 3.3117 | 0.7516 | 0.0041 |  0.0213 |  0.0313 |    0.0679 |   5.7532\n",
      "RandomSearch_MF | 3.1507 | 0.7567 | 0.0039 |  0.0186 |  0.0288 |    0.0661 |   5.8133\n",
      "\n",
      "TEST:\n",
      "...\n",
      "                |   RMSE |    AUC |  F1@50 | NCRR@50 | NDCG@50 | Recall@50 | Train (s) | Test (s)\n",
      "--------------- + ------ + ------ + ------ + ------- + ------- + --------- + --------- + --------\n",
      "MF              | 3.4268 | 0.7574 | 0.0104 |  0.0350 |  0.0438 |    0.0687 |    0.1313 |  11.8764\n",
      "RandomSearch_MF | 3.2818 | 0.7632 | 0.0102 |  0.0320 |  0.0418 |    0.0686 |  321.8281 |  12.5133\n",
      "\n"
     ]
    },
    {
     "name": "stderr",
     "output_type": "stream",
     "text": [
      "\n"
     ]
    }
   ],
   "source": [
    "# base model\n",
    "mf = MF(k=150, max_iter=10, learning_rate=0.01, lambda_reg=0.01, use_bias=False,\n",
    "        verbose=VERBOSE, name=f\"MF\")\n",
    "\n",
    "# Split the dataset into train and val sets\n",
    "train_set, val_set = train_test_split(\n",
    "    train_data, test_size=0.2, random_state=SEED\n",
    ")\n",
    "\n",
    "# evaluation method\n",
    "eval_method = BaseMethod.from_splits(\n",
    "    train_data=train_set, test_data=test_data, val_data=val_set, \n",
    "    fmt='UIR', rating_threshold=2.5, exclude_unknowns=True,\n",
    "    random_state=SEED, verbose=VERBOSE\n",
    ")\n",
    "\n",
    "# Random Search\n",
    "rs_mf = RandomSearch(\n",
    "    model=mf,\n",
    "    space=[\n",
    "        Discrete(name=\"k\", values=[i for i in range(200, 400, 50)]),\n",
    "        Discrete(name=\"max_iter\", values=[i for i in range(5, 15, 1)]),\n",
    "        Continuous(name=\"learning_rate\", low=0.01, high=0.1),\n",
    "        Continuous(name=\"lambda_reg\", low=0.01, high=0.1)\n",
    "    ],\n",
    "    metric=AUC(),\n",
    "    eval_method=eval_method,\n",
    "    n_trails=20,\n",
    ")\n",
    "\n",
    "# Running the experiment\n",
    "Experiment(eval_method=eval_method, models=[mf, rs_mf], metrics=metrics, verbose=True).run()\n"
   ]
  },
  {
   "cell_type": "code",
   "execution_count": null,
   "id": "21ca8ca8",
   "metadata": {},
   "outputs": [
    {
     "name": "stdout",
     "output_type": "stream",
     "text": [
      "rating_threshold = 4.5\n",
      "exclude_unknowns = False\n",
      "---\n",
      "Training data:\n",
      "Number of users = 11525\n",
      "Number of items = 28771\n",
      "Number of ratings = 112104\n",
      "Max rating = 5.0\n",
      "Min rating = 1.0\n",
      "Global mean = 4.4\n",
      "---\n",
      "Test data:\n",
      "Number of users = 11525\n",
      "Number of items = 28771\n",
      "Number of ratings = 52381\n",
      "Number of unknown users = 0\n",
      "Number of unknown items = 0\n",
      "---\n",
      "Total users = 11525\n",
      "Total items = 28771\n",
      "\n",
      "[MF_1] Training started!\n"
     ]
    },
    {
     "name": "stderr",
     "output_type": "stream",
     "text": [
      "100%|██████████| 5/5 [00:00<00:00, 87.18it/s, loss=1025772.50]\n"
     ]
    },
    {
     "name": "stdout",
     "output_type": "stream",
     "text": [
      "Optimization finished!\n",
      "\n",
      "[MF_1] Evaluation started!\n"
     ]
    },
    {
     "name": "stderr",
     "output_type": "stream",
     "text": [
      "Rating: 100%|██████████| 52381/52381 [00:00<00:00, 287145.03it/s]\n",
      "Ranking: 100%|██████████| 11515/11515 [00:16<00:00, 714.69it/s]\n"
     ]
    },
    {
     "name": "stdout",
     "output_type": "stream",
     "text": [
      "MF_1 model is saved to models/MF_1/2025-05-11_03-08-03-229752.pkl\n",
      "\n",
      "[MF_2] Training started!\n"
     ]
    },
    {
     "name": "stderr",
     "output_type": "stream",
     "text": [
      "100%|██████████| 10/10 [00:00<00:00, 114.86it/s, loss=730307.69]\n"
     ]
    },
    {
     "name": "stdout",
     "output_type": "stream",
     "text": [
      "Optimization finished!\n",
      "\n",
      "[MF_2] Evaluation started!\n"
     ]
    },
    {
     "name": "stderr",
     "output_type": "stream",
     "text": [
      "Rating: 100%|██████████| 52381/52381 [00:00<00:00, 280347.44it/s]\n",
      "Ranking: 100%|██████████| 11515/11515 [00:17<00:00, 660.72it/s]\n"
     ]
    },
    {
     "name": "stdout",
     "output_type": "stream",
     "text": [
      "MF_2 model is saved to models/MF_2/2025-05-11_03-08-21-414487.pkl\n",
      "\n",
      "[MF_3] Training started!\n"
     ]
    },
    {
     "name": "stderr",
     "output_type": "stream",
     "text": [
      "100%|██████████| 10/10 [00:00<00:00, 97.11it/s, loss=713874.69]\n"
     ]
    },
    {
     "name": "stdout",
     "output_type": "stream",
     "text": [
      "Optimization finished!\n",
      "\n",
      "[MF_3] Evaluation started!\n"
     ]
    },
    {
     "name": "stderr",
     "output_type": "stream",
     "text": [
      "Rating: 100%|██████████| 52381/52381 [00:00<00:00, 273380.00it/s]\n",
      "Ranking: 100%|██████████| 11515/11515 [00:16<00:00, 716.56it/s]\n"
     ]
    },
    {
     "name": "stdout",
     "output_type": "stream",
     "text": [
      "MF_3 model is saved to models/MF_3/2025-05-11_03-08-38-289542.pkl\n",
      "\n",
      "[MF_4] Training started!\n"
     ]
    },
    {
     "name": "stderr",
     "output_type": "stream",
     "text": [
      "100%|██████████| 5/5 [00:00<00:00, 82.36it/s, loss=1136512.88] \n"
     ]
    },
    {
     "name": "stdout",
     "output_type": "stream",
     "text": [
      "Optimization finished!\n",
      "\n",
      "[MF_4] Evaluation started!\n"
     ]
    },
    {
     "name": "stderr",
     "output_type": "stream",
     "text": [
      "Rating: 100%|██████████| 52381/52381 [00:00<00:00, 231034.30it/s]\n",
      "Ranking: 100%|██████████| 11515/11515 [00:17<00:00, 663.34it/s]"
     ]
    },
    {
     "name": "stdout",
     "output_type": "stream",
     "text": [
      "MF_4 model is saved to models/MF_4/2025-05-11_03-08-56-407593.pkl\n",
      "\n",
      "TEST:\n",
      "...\n",
      "     |   RMSE |    AUC |  F1@50 | NCRR@50 | NDCG@50 | Recall@50 | Train (s) | Test (s)\n",
      "---- + ------ + ------ + ------ + ------- + ------- + --------- + --------- + --------\n",
      "MF_1 | 3.4663 | 0.7599 | 0.0084 |  0.0336 |  0.0413 |    0.0667 |    0.1791 |  16.6192\n",
      "MF_2 | 3.1910 | 0.7711 | 0.0089 |  0.0321 |  0.0427 |    0.0742 |    0.1931 |  17.9553\n",
      "MF_3 | 3.1817 | 0.7723 | 0.0090 |  0.0325 |  0.0429 |    0.0738 |    0.2288 |  16.6102\n",
      "MF_4 | 3.5411 | 0.6427 | 0.0083 |  0.0290 |  0.0382 |    0.0669 |    0.1668 |  17.9138\n",
      "\n"
     ]
    },
    {
     "name": "stderr",
     "output_type": "stream",
     "text": [
      "\n"
     ]
    }
   ],
   "source": [
    "# Model\n",
    "mf_1 = MF(k=300, max_iter=5, learning_rate=0.015, lambda_reg=0.01, use_bias=False, name=\"MF_1\")\n",
    "\n",
    "mf_2 = MF(k=250, max_iter=10, learning_rate=0.01, lambda_reg=0.01, use_bias=False, name=\"MF_2\")\n",
    "\n",
    "mf_3 = MF(k=300, max_iter=10, learning_rate=0.01, lambda_reg=0.01, use_bias=False, name=\"MF_3\")\n",
    "\n",
    "mf_4 = MF(k=250, max_iter=5, learning_rate=0.01, lambda_reg=0.01, use_bias=False, name=\"MF_4\")\n",
    "\n",
    "models = [mf_1, mf_2, mf_3, mf_4]\n",
    "\n",
    "# Defining the evaluation method\n",
    "eval_method = BaseMethod.from_splits(\n",
    "    train_data=train_data, test_data=test_data, val_data=None, \n",
    "    fmt='UIR', rating_threshold=4.5, exclude_unknowns=False,\n",
    "    random_state=SEED, verbose=VERBOSE\n",
    ")\n",
    "\n",
    "# Defining the evaluation metrics\n",
    "metrics = [\n",
    "    RMSE(),\n",
    "    AUC(),\n",
    "    FMeasure(k=50),\n",
    "    NDCG(k=50),\n",
    "    NCRR(k=50),\n",
    "    Recall(k=50)\n",
    "]\n",
    "\n",
    "# Running the experiment\n",
    "Experiment(eval_method=eval_method, models=models, metrics=metrics, verbose=VERBOSE, save_dir=\"models\").run()\n",
    "\n"
   ]
  },
  {
   "cell_type": "code",
   "execution_count": 2,
   "id": "f7cc95df",
   "metadata": {},
   "outputs": [
    {
     "name": "stdout",
     "output_type": "stream",
     "text": [
      "MF_1 harmonic mean: 0.0434987597732282\n",
      "MF_2 harmonic mean: 0.04408591772952088\n",
      "MF_3 harmonic mean: 0.04435941265482263\n",
      "MF_4 harmonic mean: 0.03967810360704419\n"
     ]
    }
   ],
   "source": [
    "\n",
    "print(\"MF_1 harmonic mean:\", hmean([0.0336, 0.0413, 0.0667]))\n",
    "print(\"MF_2 harmonic mean:\", hmean([0.0321, 0.0427, 0.0742]))\n",
    "print(\"MF_3 harmonic mean:\", hmean([0.0325, 0.0429, 0.0738]))\n",
    "print(\"MF_4 harmonic mean:\", hmean([0.0290, 0.0382, 0.0669]))"
   ]
  },
  {
   "cell_type": "markdown",
   "id": "db78b1e1",
   "metadata": {},
   "source": [
    "### Bayesian Personalized Ranking Model Training"
   ]
  },
  {
   "cell_type": "code",
   "execution_count": 10,
   "id": "bb118acf",
   "metadata": {},
   "outputs": [
    {
     "name": "stdout",
     "output_type": "stream",
     "text": [
      "rating_threshold = 4.5\n",
      "exclude_unknowns = False\n",
      "---\n",
      "Training data:\n",
      "Number of users = 11525\n",
      "Number of items = 28771\n",
      "Number of ratings = 112104\n",
      "Max rating = 5.0\n",
      "Min rating = 1.0\n",
      "Global mean = 4.4\n",
      "---\n",
      "Test data:\n",
      "Number of users = 11525\n",
      "Number of items = 28771\n",
      "Number of ratings = 52381\n",
      "Number of unknown users = 0\n",
      "Number of unknown items = 0\n",
      "---\n",
      "Total users = 11525\n",
      "Total items = 28771\n",
      "\n",
      "[BPR] Training started!\n"
     ]
    },
    {
     "data": {
      "application/vnd.jupyter.widget-view+json": {
       "model_id": "a615ee79385f4f7cb14fd39628d104cc",
       "version_major": 2,
       "version_minor": 0
      },
      "text/plain": [
       "  0%|          | 0/100 [00:00<?, ?it/s]"
      ]
     },
     "metadata": {},
     "output_type": "display_data"
    },
    {
     "name": "stdout",
     "output_type": "stream",
     "text": [
      "Optimization finished!\n",
      "\n",
      "[BPR] Evaluation started!\n"
     ]
    },
    {
     "data": {
      "application/vnd.jupyter.widget-view+json": {
       "model_id": "7763d9b8204849af87c6926dbd104643",
       "version_major": 2,
       "version_minor": 0
      },
      "text/plain": [
       "Rating:   0%|          | 0/52381 [00:00<?, ?it/s]"
      ]
     },
     "metadata": {},
     "output_type": "display_data"
    },
    {
     "data": {
      "application/vnd.jupyter.widget-view+json": {
       "model_id": "1421f2a41f6e41c7805bd235f8403238",
       "version_major": 2,
       "version_minor": 0
      },
      "text/plain": [
       "Ranking:   0%|          | 0/11515 [00:00<?, ?it/s]"
      ]
     },
     "metadata": {},
     "output_type": "display_data"
    },
    {
     "name": "stdout",
     "output_type": "stream",
     "text": [
      "\n",
      "TEST:\n",
      "...\n",
      "    |   RMSE |    AUC |  F1@50 | NCRR@50 | NDCG@50 | Recall@50 | Train (s) | Test (s)\n",
      "--- + ------ + ------ + ------ + ------- + ------- + --------- + --------- + --------\n",
      "BPR | 3.5117 | 0.7377 | 0.0084 |  0.0341 |  0.0418 |    0.0673 |    2.0715 |  12.0588\n",
      "\n"
     ]
    }
   ],
   "source": [
    "bpr = BPR(k=150, max_iter=100, learning_rate=0.01, lambda_reg=0.01, use_bias=False,\n",
    "        verbose=VERBOSE, name=f\"BPR\")\n",
    "\n",
    "# evaluation method\n",
    "eval_method = BaseMethod.from_splits(\n",
    "    train_data=train_data, test_data=test_data, val_data=None, \n",
    "    fmt='UIR', rating_threshold=4.5, exclude_unknowns=False,\n",
    "    random_state=SEED, verbose=VERBOSE\n",
    ")\n",
    "\n",
    "# Defining the evaluation metrics\n",
    "metrics = [\n",
    "    RMSE(),\n",
    "    AUC(),\n",
    "    FMeasure(k=50),\n",
    "    NDCG(k=50),\n",
    "    NCRR(k=50),\n",
    "    Recall(k=50)\n",
    "]\n",
    "\n",
    "# Running the experiment\n",
    "Experiment(eval_method=eval_method, models=[bpr], metrics=metrics, verbose=VERBOSE).run()"
   ]
  },
  {
   "cell_type": "markdown",
   "id": "922f0211",
   "metadata": {},
   "source": [
    "Using Hyperparameter Tuning to find good Model"
   ]
  },
  {
   "cell_type": "code",
   "execution_count": 31,
   "id": "3aaec288",
   "metadata": {},
   "outputs": [
    {
     "name": "stdout",
     "output_type": "stream",
     "text": [
      "\n",
      "VALIDATION:\n",
      "...\n",
      "                 |   RMSE |    AUC |  F1@50 | NCRR@50 | NDCG@50 | Recall@50 | Time (s)\n",
      "---------------- + ------ + ------ + ------ + ------- + ------- + --------- + --------\n",
      "BPR              | 3.3619 | 0.8024 | 0.0069 |  0.0239 |  0.0407 |    0.1000 |  12.8294\n",
      "RandomSearch_BPR | 3.3516 | 0.8017 | 0.0071 |  0.0253 |  0.0430 |    0.1055 |  12.8074\n",
      "\n",
      "TEST:\n",
      "...\n",
      "                 |   RMSE |    AUC |  F1@50 | NCRR@50 | NDCG@50 | Recall@50 |  Train (s) | Test (s)\n",
      "---------------- + ------ + ------ + ------ + ------- + ------- + --------- + ---------- + --------\n",
      "BPR              | 3.4249 | 0.8056 | 0.0123 |  0.0323 |  0.0505 |    0.1033 |    22.9303 |  19.3115\n",
      "RandomSearch_BPR | 3.4162 | 0.8049 | 0.0127 |  0.0348 |  0.0530 |    0.1059 | 10971.5222 |  19.5010\n",
      "\n",
      "Best Parameters for BPR: {'k': np.int64(500), 'lambda_reg': 0.056255737608024395, 'learning_rate': 0.06056372194966879, 'max_iter': np.int64(500)}\n"
     ]
    }
   ],
   "source": [
    "# base model\n",
    "bpr = BPR(k=500, max_iter=500, learning_rate=0.04, lambda_reg=0.06, use_bias=True, name=f\"BPR\")\n",
    "\n",
    "# Split the dataset into train and val sets\n",
    "train_set, val_set = train_test_split(\n",
    "    train_data, test_size=0.2, random_state=SEED\n",
    ")\n",
    "\n",
    "# evaluation method\n",
    "eval_method = BaseMethod.from_splits(\n",
    "    train_data=train_set, test_data=test_data, val_data=val_set, \n",
    "    fmt='UIR', rating_threshold=4.5, exclude_unknowns=True,\n",
    "    random_state=SEED\n",
    ")\n",
    "\n",
    "# Random Search\n",
    "rs_bpr = RandomSearch(\n",
    "    model=bpr,\n",
    "    space=[\n",
    "        Discrete(name=\"k\", values=[i for i in range(300, 600, 25)]),\n",
    "        Discrete(name=\"max_iter\", values=[i for i in range(400, 600, 25)]),\n",
    "        Continuous(name=\"learning_rate\", low=0.01, high=0.1),\n",
    "        Continuous(name=\"lambda_reg\", low=0.01, high=0.1)\n",
    "    ],\n",
    "    metric=NDCG(k=50),\n",
    "    eval_method=eval_method,\n",
    "    n_trails=60,\n",
    ")\n",
    "\n",
    "# Running the experiment\n",
    "Experiment(eval_method=eval_method, models=[bpr, rs_bpr], metrics=metrics, verbose=False).run()\n",
    "\n",
    "print(\"Best Parameters for BPR:\", rs_bpr.best_params)\n"
   ]
  },
  {
   "cell_type": "code",
   "execution_count": 24,
   "id": "42d93e27",
   "metadata": {},
   "outputs": [
    {
     "name": "stdout",
     "output_type": "stream",
     "text": [
      "Best Parameters for BPR: {'k': np.int64(550), 'lambda_reg': 0.094751147290515, 'learning_rate': 0.07076379596784242, 'max_iter': np.int64(475)}\n"
     ]
    }
   ],
   "source": [
    "print(\"Best Parameters for BPR:\", rs_bpr.best_params)"
   ]
  },
  {
   "cell_type": "code",
   "execution_count": 33,
   "id": "c3c3aabd",
   "metadata": {},
   "outputs": [
    {
     "name": "stdout",
     "output_type": "stream",
     "text": [
      "rating_threshold = 2.5\n",
      "exclude_unknowns = False\n",
      "---\n",
      "Training data:\n",
      "Number of users = 11525\n",
      "Number of items = 28771\n",
      "Number of ratings = 112104\n",
      "Max rating = 5.0\n",
      "Min rating = 1.0\n",
      "Global mean = 4.4\n",
      "---\n",
      "Test data:\n",
      "Number of users = 11525\n",
      "Number of items = 28771\n",
      "Number of ratings = 52381\n",
      "Number of unknown users = 0\n",
      "Number of unknown items = 0\n",
      "---\n",
      "Total users = 11525\n",
      "Total items = 28771\n",
      "\n",
      "[BPR] Training started!\n"
     ]
    },
    {
     "data": {
      "application/vnd.jupyter.widget-view+json": {
       "model_id": "1f6576f9d5424bba9a74be8daf0eac13",
       "version_major": 2,
       "version_minor": 0
      },
      "text/plain": [
       "  0%|          | 0/500 [00:00<?, ?it/s]"
      ]
     },
     "metadata": {},
     "output_type": "display_data"
    },
    {
     "name": "stdout",
     "output_type": "stream",
     "text": [
      "Optimization finished!\n",
      "\n",
      "[BPR] Evaluation started!\n"
     ]
    },
    {
     "data": {
      "application/vnd.jupyter.widget-view+json": {
       "model_id": "3c77ef60890741bc8c97969f3908aea2",
       "version_major": 2,
       "version_minor": 0
      },
      "text/plain": [
       "Rating:   0%|          | 0/52381 [00:00<?, ?it/s]"
      ]
     },
     "metadata": {},
     "output_type": "display_data"
    },
    {
     "data": {
      "application/vnd.jupyter.widget-view+json": {
       "model_id": "f6fb79ea7cb041a1826d96b89b1873cb",
       "version_major": 2,
       "version_minor": 0
      },
      "text/plain": [
       "Ranking:   0%|          | 0/11515 [00:00<?, ?it/s]"
      ]
     },
     "metadata": {},
     "output_type": "display_data"
    },
    {
     "name": "stdout",
     "output_type": "stream",
     "text": [
      "\n",
      "TEST:\n",
      "...\n",
      "    |   RMSE |    AUC |  F1@50 | NCRR@50 | NDCG@50 | Recall@50 | Train (s) | Test (s)\n",
      "--- + ------ + ------ + ------ + ------- + ------- + --------- + --------- + --------\n",
      "BPR | 3.4425 | 0.8167 | 0.0154 |  0.0348 |  0.0535 |    0.1028 |   30.6354 |  21.2897\n",
      "\n",
      "rating_threshold = 3.5\n",
      "exclude_unknowns = False\n",
      "---\n",
      "Training data:\n",
      "Number of users = 11525\n",
      "Number of items = 28771\n",
      "Number of ratings = 112104\n",
      "Max rating = 5.0\n",
      "Min rating = 1.0\n",
      "Global mean = 4.4\n",
      "---\n",
      "Test data:\n",
      "Number of users = 11525\n",
      "Number of items = 28771\n",
      "Number of ratings = 52381\n",
      "Number of unknown users = 0\n",
      "Number of unknown items = 0\n",
      "---\n",
      "Total users = 11525\n",
      "Total items = 28771\n",
      "\n",
      "[BPR] Training started!\n"
     ]
    },
    {
     "name": "stderr",
     "output_type": "stream",
     "text": [
      "/Users/nicholascvoigt/.pyenv/versions/cs608-recsys-env/lib/python3.9/site-packages/cornac/models/recommender.py:322: UserWarning: Model is already fitted. Re-fitting will overwrite the previous model.\n",
      "  warnings.warn(\n"
     ]
    },
    {
     "data": {
      "application/vnd.jupyter.widget-view+json": {
       "model_id": "7e3936582c144bcab30494d935cd906c",
       "version_major": 2,
       "version_minor": 0
      },
      "text/plain": [
       "  0%|          | 0/500 [00:00<?, ?it/s]"
      ]
     },
     "metadata": {},
     "output_type": "display_data"
    },
    {
     "name": "stdout",
     "output_type": "stream",
     "text": [
      "Optimization finished!\n",
      "\n",
      "[BPR] Evaluation started!\n"
     ]
    },
    {
     "data": {
      "application/vnd.jupyter.widget-view+json": {
       "model_id": "1bb5da835cec4f20b391ed48071bc573",
       "version_major": 2,
       "version_minor": 0
      },
      "text/plain": [
       "Rating:   0%|          | 0/52381 [00:00<?, ?it/s]"
      ]
     },
     "metadata": {},
     "output_type": "display_data"
    },
    {
     "data": {
      "application/vnd.jupyter.widget-view+json": {
       "model_id": "cf7bc4656f8e4979a189955686d58ada",
       "version_major": 2,
       "version_minor": 0
      },
      "text/plain": [
       "Ranking:   0%|          | 0/11515 [00:00<?, ?it/s]"
      ]
     },
     "metadata": {},
     "output_type": "display_data"
    },
    {
     "name": "stdout",
     "output_type": "stream",
     "text": [
      "\n",
      "TEST:\n",
      "...\n",
      "    |   RMSE |    AUC |  F1@50 | NCRR@50 | NDCG@50 | Recall@50 | Train (s) | Test (s)\n",
      "--- + ------ + ------ + ------ + ------- + ------- + --------- + --------- + --------\n",
      "BPR | 3.4450 | 0.8184 | 0.0149 |  0.0357 |  0.0548 |    0.1062 |   29.9641 |  20.6498\n",
      "\n",
      "rating_threshold = 4.5\n",
      "exclude_unknowns = False\n",
      "---\n",
      "Training data:\n",
      "Number of users = 11525\n",
      "Number of items = 28771\n",
      "Number of ratings = 112104\n",
      "Max rating = 5.0\n",
      "Min rating = 1.0\n",
      "Global mean = 4.4\n",
      "---\n",
      "Test data:\n",
      "Number of users = 11525\n",
      "Number of items = 28771\n",
      "Number of ratings = 52381\n",
      "Number of unknown users = 0\n",
      "Number of unknown items = 0\n",
      "---\n",
      "Total users = 11525\n",
      "Total items = 28771\n",
      "\n",
      "[BPR] Training started!\n"
     ]
    },
    {
     "data": {
      "application/vnd.jupyter.widget-view+json": {
       "model_id": "e55ed3ebdb0b4908909a784cc048fa83",
       "version_major": 2,
       "version_minor": 0
      },
      "text/plain": [
       "  0%|          | 0/500 [00:00<?, ?it/s]"
      ]
     },
     "metadata": {},
     "output_type": "display_data"
    },
    {
     "name": "stdout",
     "output_type": "stream",
     "text": [
      "Optimization finished!\n",
      "\n",
      "[BPR] Evaluation started!\n"
     ]
    },
    {
     "data": {
      "application/vnd.jupyter.widget-view+json": {
       "model_id": "37ddaed1ed0f422885273b5f39757ad1",
       "version_major": 2,
       "version_minor": 0
      },
      "text/plain": [
       "Rating:   0%|          | 0/52381 [00:00<?, ?it/s]"
      ]
     },
     "metadata": {},
     "output_type": "display_data"
    },
    {
     "data": {
      "application/vnd.jupyter.widget-view+json": {
       "model_id": "712c802c5927499e90c5d073be16986b",
       "version_major": 2,
       "version_minor": 0
      },
      "text/plain": [
       "Ranking:   0%|          | 0/11515 [00:00<?, ?it/s]"
      ]
     },
     "metadata": {},
     "output_type": "display_data"
    },
    {
     "name": "stdout",
     "output_type": "stream",
     "text": [
      "\n",
      "TEST:\n",
      "...\n",
      "    |   RMSE |    AUC |  F1@50 | NCRR@50 | NDCG@50 | Recall@50 | Train (s) | Test (s)\n",
      "--- + ------ + ------ + ------ + ------- + ------- + --------- + --------- + --------\n",
      "BPR | 3.4462 | 0.8166 | 0.0128 |  0.0303 |  0.0497 |    0.1053 |   30.2596 |  19.4391\n",
      "\n"
     ]
    }
   ],
   "source": [
    "bpr = BPR(k=475, max_iter=500, learning_rate=0.07, lambda_reg=0.095, use_bias=True,\n",
    "        verbose=VERBOSE, name=f\"BPR\")\n",
    "\n",
    "# Defining the evaluation metrics\n",
    "metrics = [\n",
    "    RMSE(),\n",
    "    AUC(),\n",
    "    FMeasure(k=50),\n",
    "    NDCG(k=50),\n",
    "    NCRR(k=50),\n",
    "    Recall(k=50)\n",
    "]\n",
    "\n",
    "thresholds = [2.5, 3.5, 4.5]\n",
    "\n",
    "for threshold in thresholds:\n",
    "    # evaluation method\n",
    "    eval_method = BaseMethod.from_splits(\n",
    "        train_data=train_data, test_data=test_data, val_data=None, \n",
    "        fmt='UIR', rating_threshold=threshold, exclude_unknowns=False,\n",
    "        random_state=SEED, verbose=VERBOSE\n",
    "    )\n",
    "\n",
    "    # Running the experiment\n",
    "    Experiment(eval_method=eval_method, models=[bpr], metrics=metrics, verbose=VERBOSE).run()"
   ]
  },
  {
   "cell_type": "code",
   "execution_count": 34,
   "id": "50df4671",
   "metadata": {},
   "outputs": [
    {
     "name": "stdout",
     "output_type": "stream",
     "text": [
      "rating_threshold = 3.5\n",
      "exclude_unknowns = False\n",
      "---\n",
      "Training data:\n",
      "Number of users = 11525\n",
      "Number of items = 28771\n",
      "Number of ratings = 112104\n",
      "Max rating = 5.0\n",
      "Min rating = 1.0\n",
      "Global mean = 4.4\n",
      "---\n",
      "Test data:\n",
      "Number of users = 11525\n",
      "Number of items = 28771\n",
      "Number of ratings = 52381\n",
      "Number of unknown users = 0\n",
      "Number of unknown items = 0\n",
      "---\n",
      "Total users = 11525\n",
      "Total items = 28771\n",
      "\n",
      "[BPR] Training started!\n"
     ]
    },
    {
     "data": {
      "application/vnd.jupyter.widget-view+json": {
       "model_id": "47a2c598e30f4af888453636cf1b105b",
       "version_major": 2,
       "version_minor": 0
      },
      "text/plain": [
       "  0%|          | 0/500 [00:00<?, ?it/s]"
      ]
     },
     "metadata": {},
     "output_type": "display_data"
    },
    {
     "name": "stdout",
     "output_type": "stream",
     "text": [
      "Optimization finished!\n",
      "\n",
      "[BPR] Evaluation started!\n"
     ]
    },
    {
     "data": {
      "application/vnd.jupyter.widget-view+json": {
       "model_id": "3acff76762a04e6aaa4329c7bc2068d8",
       "version_major": 2,
       "version_minor": 0
      },
      "text/plain": [
       "Rating:   0%|          | 0/52381 [00:00<?, ?it/s]"
      ]
     },
     "metadata": {},
     "output_type": "display_data"
    },
    {
     "data": {
      "application/vnd.jupyter.widget-view+json": {
       "model_id": "64fd6a7cd7614be0a10fa3586984e8af",
       "version_major": 2,
       "version_minor": 0
      },
      "text/plain": [
       "Ranking:   0%|          | 0/11515 [00:00<?, ?it/s]"
      ]
     },
     "metadata": {},
     "output_type": "display_data"
    },
    {
     "name": "stdout",
     "output_type": "stream",
     "text": [
      "BPR model is saved to models/BPR/2025-05-11_10-38-15-993372.pkl\n",
      "\n",
      "TEST:\n",
      "...\n",
      "    |   RMSE |    AUC |  F1@50 | NCRR@50 | NDCG@50 | Recall@50 | Train (s) | Test (s)\n",
      "--- + ------ + ------ + ------ + ------- + ------- + --------- + --------- + --------\n",
      "BPR | 3.4435 | 0.8181 | 0.0149 |  0.0325 |  0.0524 |    0.1060 |   30.6613 |  20.9478\n",
      "\n"
     ]
    }
   ],
   "source": [
    "bpr = BPR(k=475, max_iter=500, learning_rate=0.07, lambda_reg=0.095, use_bias=True,\n",
    "        verbose=VERBOSE, name=f\"BPR\")\n",
    "\n",
    "# Defining the evaluation metrics\n",
    "metrics = [\n",
    "    RMSE(),\n",
    "    AUC(),\n",
    "    FMeasure(k=50),\n",
    "    NDCG(k=50),\n",
    "    NCRR(k=50),\n",
    "    Recall(k=50)\n",
    "]\n",
    "\n",
    "# evaluation method\n",
    "eval_method = BaseMethod.from_splits(\n",
    "    train_data=train_data, test_data=test_data, val_data=None, \n",
    "    fmt='UIR', rating_threshold=3.5, exclude_unknowns=False,\n",
    "    random_state=SEED, verbose=VERBOSE\n",
    ")\n",
    "\n",
    "# Running the experiment\n",
    "Experiment(eval_method=eval_method, models=[bpr], metrics=metrics, verbose=VERBOSE, save_dir=\"models\").run()"
   ]
  },
  {
   "cell_type": "markdown",
   "id": "e95f6c44",
   "metadata": {},
   "source": [
    "### EASE Model Training"
   ]
  },
  {
   "cell_type": "code",
   "execution_count": null,
   "id": "31312a5d",
   "metadata": {},
   "outputs": [
    {
     "name": "stdout",
     "output_type": "stream",
     "text": [
      "rating_threshold = 4.5\n",
      "exclude_unknowns = False\n",
      "---\n",
      "Training data:\n",
      "Number of users = 11525\n",
      "Number of items = 28771\n",
      "Number of ratings = 112104\n",
      "Max rating = 5.0\n",
      "Min rating = 1.0\n",
      "Global mean = 4.4\n",
      "---\n",
      "Test data:\n",
      "Number of users = 11525\n",
      "Number of items = 28771\n",
      "Number of ratings = 52381\n",
      "Number of unknown users = 0\n",
      "Number of unknown items = 0\n",
      "---\n",
      "Total users = 11525\n",
      "Total items = 28771\n",
      "\n",
      "[EASE] Training started!\n"
     ]
    }
   ],
   "source": [
    "ease = EASE(name='EASE', lamb=500, posB=False, verbose=VERBOSE)\n",
    "\n",
    "# evaluation method\n",
    "eval_method = BaseMethod.from_splits(\n",
    "    train_data=train_data, test_data=test_data, val_data=None, \n",
    "    fmt='UIR', rating_threshold=4.5, exclude_unknowns=False,\n",
    "    random_state=SEED, verbose=VERBOSE\n",
    ")\n",
    "\n",
    "# Defining the evaluation metrics\n",
    "metrics = [\n",
    "    RMSE(),\n",
    "    AUC(),\n",
    "    FMeasure(k=50),\n",
    "    NDCG(k=50),\n",
    "    NCRR(k=50),\n",
    "    Recall(k=50)\n",
    "]\n",
    "\n",
    "# Running the experiment\n",
    "Experiment(eval_method=eval_method, models=[ease], metrics=metrics, verbose=VERBOSE).run()\n"
   ]
  },
  {
   "cell_type": "code",
   "execution_count": null,
   "id": "904e1bfc",
   "metadata": {},
   "outputs": [],
   "source": []
  }
 ],
 "metadata": {
  "kernelspec": {
   "display_name": "cs608-recsys-env",
   "language": "python",
   "name": "python3"
  },
  "language_info": {
   "codemirror_mode": {
    "name": "ipython",
    "version": 3
   },
   "file_extension": ".py",
   "mimetype": "text/x-python",
   "name": "python",
   "nbconvert_exporter": "python",
   "pygments_lexer": "ipython3",
   "version": "3.9.22"
  }
 },
 "nbformat": 4,
 "nbformat_minor": 5
}
